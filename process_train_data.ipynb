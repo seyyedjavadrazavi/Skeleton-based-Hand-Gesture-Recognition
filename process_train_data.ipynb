{
  "nbformat": 4,
  "nbformat_minor": 0,
  "metadata": {
    "colab": {
      "provenance": []
    },
    "kernelspec": {
      "name": "python3",
      "display_name": "Python 3"
    },
    "language_info": {
      "name": "python"
    }
  },
  "cells": [
    {
      "cell_type": "code",
      "source": [
        "\"\"\"Connect to Google Drive\"\"\"\n",
        "from google.colab import drive\n",
        "drive.mount('/content/drive')"
      ],
      "metadata": {
        "colab": {
          "base_uri": "https://localhost:8080/"
        },
        "id": "cRlDMne8d4pv",
        "outputId": "45ceadb8-f40f-4d1c-cc87-d54c1c5ffa5f"
      },
      "execution_count": null,
      "outputs": [
        {
          "output_type": "stream",
          "name": "stdout",
          "text": [
            "Drive already mounted at /content/drive; to attempt to forcibly remount, call drive.mount(\"/content/drive\", force_remount=True).\n"
          ]
        }
      ]
    },
    {
      "cell_type": "code",
      "execution_count": null,
      "metadata": {
        "id": "RxJ0J9U2dR34"
      },
      "outputs": [],
      "source": [
        "\"\"\"Import libraries\"\"\"\n",
        "import pandas as pd\n",
        "import csv"
      ]
    },
    {
      "cell_type": "code",
      "source": [
        "\"\"\"Convert .txt file to a csv file, do some preprocessing and store it for later applications.\"\"\"\n",
        "read_file = pd.read_csv (r'/content/drive/MyDrive/Gesture Detection/training_set/annotations_revised_training.txt')\n",
        "data = read_file.values.tolist()\n",
        "col = read_file.columns.values.tolist()\n",
        "data.insert(0, col)\n",
        "\n",
        "\"\"\" Store each row in detail in a CSV file. Each row contains the file's name, the label of the row,\n",
        " the position of the start line, and the end line of the related label. For example, in the .txt file\n",
        " if we have \"1;ONE;670;980;\",  in the CSV file, the file name is \"1\", the label is \"ONE\", the start position\n",
        " is \"670\" and the destination is \"980\" \"\"\"\n",
        "with open('/content/drive/MyDrive/Gesture Detection/training_set/annotations_revised_training.csv', 'w', newline='') as out_file:\n",
        "    writer = csv.writer(out_file)\n",
        "    writer.writerow(['file', 'label', 'from_line', 'to_line'])\n",
        "    for line in data:\n",
        "        each_lien = line[0].split(\";\")\n",
        "        crnt_file = each_lien[0]\n",
        "        each_lien = each_lien[1:]\n",
        "        for j in range(0, len(each_lien) - 1, 3):\n",
        "            writer.writerow([crnt_file, each_lien[j], each_lien[j+1], each_lien[j+2]])\n"
      ],
      "metadata": {
        "id": "dlpBg_FHdrj3"
      },
      "execution_count": null,
      "outputs": []
    },
    {
      "cell_type": "code",
      "source": [
        "\"\"\"Read the above csv file and create another csv file in which\n",
        " each row contains 40 features of a hand gesture and its related label\"\"\"\n",
        "labels = pd.read_csv('/content/drive/MyDrive/Gesture Detection/training_set/annotations_revised_training.csv')\n",
        "\n",
        "train_data = []\n",
        "for i in range(1, 109, 1):\n",
        "    read_file = pd.read_csv (r\"/content/drive/MyDrive/Gesture Detection/training_set/sequences/\"+ str(i) +\".txt\")\n",
        "    crnt_file = read_file.values.tolist()\n",
        "    crnt_file.insert(0, read_file.columns.values.tolist())\n",
        "\n",
        "    crnt_label = labels.loc[labels['file'] == i]\n",
        "\n",
        "    for label in crnt_label.iterrows():\n",
        "        from_line = label[1]['from_line']\n",
        "        to_line = label[1]['to_line']\n",
        "        true_label = label[1]['label']\n",
        "        data = crnt_file[from_line:to_line+1]\n",
        "\n",
        "        with open('/content/drive/MyDrive/Gesture Detection/training_set/training_data.csv', 'a', newline='') as out_file:\n",
        "            writer = csv.writer(out_file)\n",
        "            for line in data:\n",
        "                each_line = line[0].split(\";\")\n",
        "                each_line.pop()\n",
        "                each_line.insert(len(each_line)+1, true_label)\n",
        "                writer.writerow(each_line)"
      ],
      "metadata": {
        "id": "dDF0I0kudujS"
      },
      "execution_count": null,
      "outputs": []
    }
  ]
}