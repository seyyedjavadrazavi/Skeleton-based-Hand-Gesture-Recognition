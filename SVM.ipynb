{
  "nbformat": 4,
  "nbformat_minor": 0,
  "metadata": {
    "colab": {
      "provenance": []
    },
    "kernelspec": {
      "name": "python3",
      "display_name": "Python 3"
    },
    "language_info": {
      "name": "python"
    }
  },
  "cells": [
    {
      "cell_type": "code",
      "source": [
        "\"\"\"Connect to Google Drive\"\"\"\n",
        "from google.colab import drive\n",
        "drive.mount('/content/drive')"
      ],
      "metadata": {
        "colab": {
          "base_uri": "https://localhost:8080/"
        },
        "id": "lf7nsNjllsx_",
        "outputId": "5424586e-6d08-4821-91cc-8c6bd38943a1"
      },
      "execution_count": null,
      "outputs": [
        {
          "output_type": "stream",
          "name": "stdout",
          "text": [
            "Mounted at /content/drive\n"
          ]
        }
      ]
    },
    {
      "cell_type": "code",
      "execution_count": null,
      "metadata": {
        "id": "t7OMrpKsld7S"
      },
      "outputs": [],
      "source": [
        "\"\"\"Import libraries\"\"\"\n",
        "from sklearn import svm\n",
        "import pandas as pd\n",
        "from sklearn.metrics import accuracy_score"
      ]
    },
    {
      "cell_type": "code",
      "source": [
        "\"\"\"Read training and test data.\"\"\"\n",
        "infos = pd.read_csv(r\"/content/drive/MyDrive/Gesture Detection/training_set/training_data.csv\")\n",
        "test_data = pd.read_csv(r\"/content/drive/MyDrive/Gesture Detection/test_set/test_data.csv\")"
      ],
      "metadata": {
        "id": "n46txN8kli9g"
      },
      "execution_count": null,
      "outputs": []
    },
    {
      "cell_type": "code",
      "source": [
        "\"\"\"Create X_train data, as features, and Y_train data, as labels, for training the SVM model.\"\"\"\n",
        "Y_train = infos[[\"DENY\"]].values.tolist()\n",
        "Y_train = [x[0] for x in Y_train]\n",
        "X_train = infos[infos.columns[:140]]\n",
        "X_train = X_train.values.tolist()"
      ],
      "metadata": {
        "id": "PCHb3GUsljDP"
      },
      "execution_count": null,
      "outputs": []
    },
    {
      "cell_type": "code",
      "source": [
        "\"\"\"Create X_test data and Y_test data for evaluating our SVM model.\n",
        "If you have not already gotten familiar with the SVM machine learning model, please read the below link:\n",
        "1- https://www.geeksforgeeks.org/classifying-data-using-support-vector-machinessvms-in-python/\n",
        "2- https://scikit-learn.org/stable/modules/generated/sklearn.svm.SVC.html\"\"\"\n",
        "Y_test = test_data[[\"DENY\"]].values.tolist()\n",
        "Y_test = [x[0] for x in Y_test]\n",
        "X_test = test_data[test_data.columns[:140]]\n",
        "X_test = X_test.values.tolist()"
      ],
      "metadata": {
        "id": "SchfuV6WljFb"
      },
      "execution_count": null,
      "outputs": []
    },
    {
      "cell_type": "code",
      "source": [
        "\"\"\"Training Model\"\"\"\n",
        "clf = svm.SVC(decision_function_shape='ovr')\n",
        "clf.fit(X_train, Y_train)"
      ],
      "metadata": {
        "colab": {
          "base_uri": "https://localhost:8080/",
          "height": 74
        },
        "id": "KnifGOWzljIw",
        "outputId": "3e70b2c8-f873-4726-ac71-79e9093868e1"
      },
      "execution_count": null,
      "outputs": [
        {
          "output_type": "execute_result",
          "data": {
            "text/plain": [
              "SVC()"
            ],
            "text/html": [
              "<style>#sk-container-id-1 {color: black;background-color: white;}#sk-container-id-1 pre{padding: 0;}#sk-container-id-1 div.sk-toggleable {background-color: white;}#sk-container-id-1 label.sk-toggleable__label {cursor: pointer;display: block;width: 100%;margin-bottom: 0;padding: 0.3em;box-sizing: border-box;text-align: center;}#sk-container-id-1 label.sk-toggleable__label-arrow:before {content: \"▸\";float: left;margin-right: 0.25em;color: #696969;}#sk-container-id-1 label.sk-toggleable__label-arrow:hover:before {color: black;}#sk-container-id-1 div.sk-estimator:hover label.sk-toggleable__label-arrow:before {color: black;}#sk-container-id-1 div.sk-toggleable__content {max-height: 0;max-width: 0;overflow: hidden;text-align: left;background-color: #f0f8ff;}#sk-container-id-1 div.sk-toggleable__content pre {margin: 0.2em;color: black;border-radius: 0.25em;background-color: #f0f8ff;}#sk-container-id-1 input.sk-toggleable__control:checked~div.sk-toggleable__content {max-height: 200px;max-width: 100%;overflow: auto;}#sk-container-id-1 input.sk-toggleable__control:checked~label.sk-toggleable__label-arrow:before {content: \"▾\";}#sk-container-id-1 div.sk-estimator input.sk-toggleable__control:checked~label.sk-toggleable__label {background-color: #d4ebff;}#sk-container-id-1 div.sk-label input.sk-toggleable__control:checked~label.sk-toggleable__label {background-color: #d4ebff;}#sk-container-id-1 input.sk-hidden--visually {border: 0;clip: rect(1px 1px 1px 1px);clip: rect(1px, 1px, 1px, 1px);height: 1px;margin: -1px;overflow: hidden;padding: 0;position: absolute;width: 1px;}#sk-container-id-1 div.sk-estimator {font-family: monospace;background-color: #f0f8ff;border: 1px dotted black;border-radius: 0.25em;box-sizing: border-box;margin-bottom: 0.5em;}#sk-container-id-1 div.sk-estimator:hover {background-color: #d4ebff;}#sk-container-id-1 div.sk-parallel-item::after {content: \"\";width: 100%;border-bottom: 1px solid gray;flex-grow: 1;}#sk-container-id-1 div.sk-label:hover label.sk-toggleable__label {background-color: #d4ebff;}#sk-container-id-1 div.sk-serial::before {content: \"\";position: absolute;border-left: 1px solid gray;box-sizing: border-box;top: 0;bottom: 0;left: 50%;z-index: 0;}#sk-container-id-1 div.sk-serial {display: flex;flex-direction: column;align-items: center;background-color: white;padding-right: 0.2em;padding-left: 0.2em;position: relative;}#sk-container-id-1 div.sk-item {position: relative;z-index: 1;}#sk-container-id-1 div.sk-parallel {display: flex;align-items: stretch;justify-content: center;background-color: white;position: relative;}#sk-container-id-1 div.sk-item::before, #sk-container-id-1 div.sk-parallel-item::before {content: \"\";position: absolute;border-left: 1px solid gray;box-sizing: border-box;top: 0;bottom: 0;left: 50%;z-index: -1;}#sk-container-id-1 div.sk-parallel-item {display: flex;flex-direction: column;z-index: 1;position: relative;background-color: white;}#sk-container-id-1 div.sk-parallel-item:first-child::after {align-self: flex-end;width: 50%;}#sk-container-id-1 div.sk-parallel-item:last-child::after {align-self: flex-start;width: 50%;}#sk-container-id-1 div.sk-parallel-item:only-child::after {width: 0;}#sk-container-id-1 div.sk-dashed-wrapped {border: 1px dashed gray;margin: 0 0.4em 0.5em 0.4em;box-sizing: border-box;padding-bottom: 0.4em;background-color: white;}#sk-container-id-1 div.sk-label label {font-family: monospace;font-weight: bold;display: inline-block;line-height: 1.2em;}#sk-container-id-1 div.sk-label-container {text-align: center;}#sk-container-id-1 div.sk-container {/* jupyter's `normalize.less` sets `[hidden] { display: none; }` but bootstrap.min.css set `[hidden] { display: none !important; }` so we also need the `!important` here to be able to override the default hidden behavior on the sphinx rendered scikit-learn.org. See: https://github.com/scikit-learn/scikit-learn/issues/21755 */display: inline-block !important;position: relative;}#sk-container-id-1 div.sk-text-repr-fallback {display: none;}</style><div id=\"sk-container-id-1\" class=\"sk-top-container\"><div class=\"sk-text-repr-fallback\"><pre>SVC()</pre><b>In a Jupyter environment, please rerun this cell to show the HTML representation or trust the notebook. <br />On GitHub, the HTML representation is unable to render, please try loading this page with nbviewer.org.</b></div><div class=\"sk-container\" hidden><div class=\"sk-item\"><div class=\"sk-estimator sk-toggleable\"><input class=\"sk-toggleable__control sk-hidden--visually\" id=\"sk-estimator-id-1\" type=\"checkbox\" checked><label for=\"sk-estimator-id-1\" class=\"sk-toggleable__label sk-toggleable__label-arrow\">SVC</label><div class=\"sk-toggleable__content\"><pre>SVC()</pre></div></div></div></div></div>"
            ]
          },
          "metadata": {},
          "execution_count": 7
        }
      ]
    },
    {
      "cell_type": "code",
      "source": [
        "\"\"\"Test our trained model\"\"\"\n",
        "y_pred = clf.predict(X_test)\n",
        "print('Accuracy: {:.4f}'.format(accuracy_score(Y_test, y_pred)))"
      ],
      "metadata": {
        "colab": {
          "base_uri": "https://localhost:8080/"
        },
        "id": "MBZJ5UmTmaCP",
        "outputId": "bb09e50f-db62-4857-a966-f4c1e97abea3"
      },
      "execution_count": null,
      "outputs": [
        {
          "output_type": "stream",
          "name": "stdout",
          "text": [
            "Accuracy: 0.8457\n"
          ]
        }
      ]
    },
    {
      "cell_type": "code",
      "source": [
        "\"\"\"New Records.\"\"\"\n",
        "import pandas as np\n",
        "\n",
        "inpt = input(\"Input features and for seprate any feature from next one, use ';'. For example, A;B;C; \\n\")\n",
        "inpt = inpt.split(';')\n",
        "\n",
        "\"\"\"Delete the empty item\"\"\"\n",
        "inpt.pop()\n",
        "\n",
        "\"\"\"Convert to float\"\"\"\n",
        "inpt = [float(x) for x in inpt]\n",
        "\n",
        "\"\"\"Predict the input row\"\"\"\n",
        "inpt1 = [inpt]\n",
        "label = clf.predict(inpt1)\n",
        "print(label)"
      ],
      "metadata": {
        "colab": {
          "base_uri": "https://localhost:8080/"
        },
        "id": "bn3rpqNOsj51",
        "outputId": "5d728c0c-1bc1-4893-819f-9a4c1bdef112"
      },
      "execution_count": null,
      "outputs": [
        {
          "output_type": "stream",
          "name": "stdout",
          "text": [
            "Input features and for seprate any feature from next one, use ';'. For example, A;B;C; \n",
            "0.2395711;2.537766;0.3036507;-0.7435822;-0.5774063;0.30519;0.1433409;0.1929789;2.589722;0.2866099;0.1591067;0.5403238;-0.6537957;-0.5052592;0.1793277;2.615623;0.2971253;0.04608238;0.5470936;-0.5102024;-0.6620114;0.1765676;2.632427;0.3128047;0.04608238;0.5470936;-0.5102024;-0.6620114;0.227539;2.623104;0.2589082;0.6828343;0.6480243;-0.3194203;-0.108502;0.2258095;2.660702;0.247272;0.1370322;0.9308569;-0.1788272;-0.2876604;0.2080924;2.668663;0.258085;0.2183151;-0.9134642;0.05816343;0.3384358;0.1966424;2.662571;0.2689941;0.2183151;-0.9134642;0.05816343;0.3384358;0.2409183;2.627075;0.2740802;0.1885923;0.9498059;-0.1441176;-0.2037937;0.2035803;2.645485;0.2887711;0.4868111;-0.8364412;-0.02725202;0.250277;0.1930971;2.623825;0.2990264;0.6299451;-0.7345629;-0.07172644;0.2417481;0.1914148;2.60577;0.3040058;0.6299451;-0.7345629;-0.07172644;0.2417481;0.2507352;2.625011;0.2922772;0.2586337;0.9462073;-0.08066206;-0.1769017;0.2178811;2.646187;0.3042582;0.3581159;-0.9116075;-0.0431293;0.197142;0.2009349;2.629135;0.3126196;0.6590856;-0.7237717;-0.1088332;0.1729631;0.199526;2.609562;0.3147297;0.6590856;-0.7237717;-0.1088332;0.1729631;0.2575221;2.621162;0.3104863;0.3110432;0.9428331;-0.001395658;-0.1196506;0.232142;2.640308;0.3178205;0.2971789;-0.9480145;-0.0667007;0.0922201;0.2176216;2.629944;0.3202552;0.6527479;-0.7491034;-0.09940702;0.05369374;0.215344;2.614094;0.3194644;0.6527479;-0.7491034;-0.09940702;0.05369374;\n",
            "['PINCH']\n"
          ]
        }
      ]
    }
  ]
}